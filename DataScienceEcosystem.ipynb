{
 "cells": [
  {
   "cell_type": "markdown",
   "id": "b862d28c-dbbe-4d78-8e2e-de644eeb0351",
   "metadata": {},
   "source": [
    "# Data Science Tools and Ecosystem"
   ]
  },
  {
   "cell_type": "markdown",
   "id": "110558cb-b9f2-4dc5-9000-1addb5deba90",
   "metadata": {},
   "source": [
    "## Author\n",
    "Sebastian Garcia Campos"
   ]
  },
  {
   "cell_type": "markdown",
   "id": "723d407c-45f8-4deb-8da8-88324edad779",
   "metadata": {},
   "source": [
    "In this notebook, Data Science Tools and Ecosystem are summarized."
   ]
  },
  {
   "cell_type": "markdown",
   "id": "7c3a0efc-0c13-4954-b629-2e64f3368d5d",
   "metadata": {},
   "source": [
    "**Objectives:**\n",
    "- List of popular languages\n",
    "- List of libraries used commonly by Data Scientists\n",
    "- Table with Data Science Tools\n",
    "- Some examples of arithmetic expressions with Python"
   ]
  },
  {
   "cell_type": "markdown",
   "id": "c8884819-79bb-4ef0-871f-bad3d2fc5635",
   "metadata": {},
   "source": [
    "Some of the popular languages that Data Scientists use are:\n",
    "\n",
    "1) Python\n",
    "2) R\n",
    "3) SQL\n",
    "4) Julia"
   ]
  },
  {
   "cell_type": "markdown",
   "id": "e770cf8b-7b7f-41c3-845b-6c9e5f0750e0",
   "metadata": {},
   "source": [
    "Some of the commonly used libraries used by Data Scientists include:\n",
    "\n",
    "1) Pandas\n",
    "2) Numpy\n",
    "3) ggplot2\n",
    "4) sqldf"
   ]
  },
  {
   "cell_type": "markdown",
   "id": "54b663b7-3b7d-4b52-a0d7-1be8e207c68d",
   "metadata": {},
   "source": [
    "|Data Science Tools|\n",
    "|-----|\n",
    "|Jupyter|\n",
    "|RStudio|\n",
    "|VSCode|"
   ]
  },
  {
   "cell_type": "markdown",
   "id": "e9a1ada0-f50c-411d-a7f2-27130d4ef75b",
   "metadata": {},
   "source": [
    "### Below are a few examples of evaluating arithmetic expressions in Python"
   ]
  },
  {
   "cell_type": "code",
   "execution_count": 1,
   "id": "eedfd0b1-3885-4887-8b87-bc822ef30873",
   "metadata": {},
   "outputs": [
    {
     "data": {
      "text/plain": [
       "17"
      ]
     },
     "execution_count": 1,
     "metadata": {},
     "output_type": "execute_result"
    }
   ],
   "source": [
    "# This is a simple arithmetic expression to multiply then add integers\n",
    "(3*4)+5"
   ]
  },
  {
   "cell_type": "code",
   "execution_count": 2,
   "id": "ebe77871-53a0-4b8b-bdbc-f8902958a6f9",
   "metadata": {},
   "outputs": [
    {
     "name": "stdout",
     "output_type": "stream",
     "text": [
      "3.3333333333333335\n"
     ]
    }
   ],
   "source": [
    "# This will convert 200 minutes ti hours by dividing by 60\n",
    "minutes = 200\n",
    "hours = minutes / 60\n",
    "print(hours)"
   ]
  },
  {
   "cell_type": "code",
   "execution_count": null,
   "id": "399c5d57-de16-4da5-8125-89f6d4b85f17",
   "metadata": {},
   "outputs": [],
   "source": []
  }
 ],
 "metadata": {
  "kernelspec": {
   "display_name": "Python 3 (ipykernel)",
   "language": "python",
   "name": "python3"
  },
  "language_info": {
   "codemirror_mode": {
    "name": "ipython",
    "version": 3
   },
   "file_extension": ".py",
   "mimetype": "text/x-python",
   "name": "python",
   "nbconvert_exporter": "python",
   "pygments_lexer": "ipython3",
   "version": "3.12.8"
  }
 },
 "nbformat": 4,
 "nbformat_minor": 5
}
